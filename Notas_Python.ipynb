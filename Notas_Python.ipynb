{
 "cells": [
  {
   "cell_type": "markdown",
   "id": "4a869244-5be5-4510-be83-575bbcbf99f7",
   "metadata": {
    "slideshow": {
     "slide_type": "slide"
    }
   },
   "source": [
    "<font size=6>\n",
    "\n",
    "<b>Notas de introducción al lenguaje de programación Python</b>\n",
    "</font>\n",
    "\n",
    "<font size=4>\n",
    "Antonio Delgado Peris <br/>\n",
    "Unidad de Computación Científica, CIEMAT. <br/>\n",
    "Madrid, Junio de 2023\n",
    "</font>\n",
    "\n",
    "https://github.com/andelpe/python-intro\n",
    "\n",
    "<br/>"
   ]
  },
  {
   "cell_type": "markdown",
   "id": "62e51d51-4bfe-472b-b74b-883135bfff6f",
   "metadata": {},
   "source": [
    "# Características fundamentales de Python\n",
    "\n",
    "- Lenguaje interpretado de alto nivel\n",
    "- Flexible, de propósito general\n",
    "- Sintaxis sencilla\n",
    "- Muy popular"
   ]
  },
  {
   "cell_type": "markdown",
   "id": "1766e756-e599-49e8-8e91-45f0db8f8903",
   "metadata": {},
   "source": [
    "Ventajas:\n",
    "- Python facilita un desarrollo rápido\n",
    "- Código altamente legible (y mantenible)\n",
    "- Portable (a casi cualquier hardware)\n",
    "\n",
    "Desventajas:\n",
    "- Ofrece peor rendimiento que lenguajes compilados<br/>\n",
    "  (pero muchas librerías científicas usan internamente módulos compilados)"
   ]
  },
  {
   "cell_type": "markdown",
   "id": "081e865e-c11b-49b5-bc68-4656d0289470",
   "metadata": {},
   "source": [
    "Python es el lenguaje más utilizado por la comunidad científica\n",
    "- Rico ecosistema de módulos (librerías) y aplicaciones\n",
    "- Las funciones para cálculos pesados están compiladas (más rápidas)\n",
    "- A menudo se combina con programas externos (en otros lenguajes)"
   ]
  },
  {
   "cell_type": "markdown",
   "id": "697ad8ec-c3fa-4fb4-838a-995833fe1eb0",
   "metadata": {},
   "source": [
    "# Sintaxis básica\n",
    "\n",
    "- La indentación tiene significado sintáctico en Python (se usa en lugar de p. ej. llaves)\n",
    "- Se recomienda usar siempre 4 espacios entre diferentes niveles\n",
    "- Los comentarios se introducen con `#`"
   ]
  },
  {
   "cell_type": "code",
   "execution_count": null,
   "id": "4dd373c7-02dc-4520-afab-832d3af4f10a",
   "metadata": {},
   "outputs": [],
   "source": [
    "# Veamos un ejemplo de indentación\n",
    "x = 0\n",
    "if x == 0:\n",
    "    \n",
    "    # Todo lo que está en este bloque indentado, está dentro del 'if'\n",
    "    print(\"La variable 'x' vale\", x)\n",
    "\n"
   ]
  },
  {
   "cell_type": "markdown",
   "id": "c1280cdf-6dd4-4ce7-a67d-f886066fcd45",
   "metadata": {},
   "source": [
    "# Tipos de datos"
   ]
  },
  {
   "cell_type": "markdown",
   "id": "f7a72410-55f8-4ded-9da0-a2c14e454074",
   "metadata": {},
   "source": [
    "En Python, los objetos (los datos) tienen un tipo asociado, lo que determina las operaciones que soportan."
   ]
  },
  {
   "cell_type": "code",
   "execution_count": null,
   "id": "6791a30e-4444-4088-9fa7-c2d5cb247534",
   "metadata": {},
   "outputs": [],
   "source": [
    "type(3)"
   ]
  },
  {
   "cell_type": "code",
   "execution_count": null,
   "id": "18cbf5e6-5fd3-4c8d-9ca5-495298d3208c",
   "metadata": {},
   "outputs": [],
   "source": [
    "3+3"
   ]
  },
  {
   "cell_type": "code",
   "execution_count": null,
   "id": "76275ef3-a89b-4b8f-bdf0-9d683a1625b3",
   "metadata": {},
   "outputs": [],
   "source": [
    "type(\"3\")"
   ]
  },
  {
   "cell_type": "code",
   "execution_count": null,
   "id": "5e8ffdbe-1b5d-4188-845a-3a37c5f96fb9",
   "metadata": {},
   "outputs": [],
   "source": [
    "\"3\" + \"3\""
   ]
  },
  {
   "cell_type": "markdown",
   "id": "beb92d6c-8ea2-4dcb-8865-d29efd7db0f5",
   "metadata": {},
   "source": [
    "En general no hay conversión automática de tipos"
   ]
  },
  {
   "cell_type": "code",
   "execution_count": null,
   "id": "4b8f756f-9e3b-4f25-aa17-15bc24515017",
   "metadata": {},
   "outputs": [],
   "source": [
    "3 + \"3\""
   ]
  },
  {
   "cell_type": "markdown",
   "id": "c96630d5-a1e7-4629-a4de-26ed439477cd",
   "metadata": {},
   "source": [
    "Sin embargo, las variables no tienen tipo propio, y no se declaran. Simplemente se les asigna algún valor, y cuando se usan, se está usando su valor asignado."
   ]
  },
  {
   "cell_type": "code",
   "execution_count": null,
   "id": "972a7b24-9a9b-49b4-ab52-a8c707111bc9",
   "metadata": {},
   "outputs": [],
   "source": [
    "var1 = 3\n",
    "2 + var1"
   ]
  },
  {
   "cell_type": "code",
   "execution_count": null,
   "id": "80affe0e-3995-4da9-a7ea-11d14042ecdd",
   "metadata": {},
   "outputs": [],
   "source": [
    "var1 = 'ab'\n",
    "var1 + 'cd'"
   ]
  },
  {
   "cell_type": "markdown",
   "id": "20b34847-b35a-42e7-af4a-b7b068a6d8ba",
   "metadata": {},
   "source": [
    "## En general, los datos son objetos\n",
    "\n",
    "Esto quiere decir que los datos de Python pueden tener atributos, que son accesibles mediante la notación `objeto.atributo`."
   ]
  },
  {
   "cell_type": "code",
   "execution_count": null,
   "id": "4750ef83-b37d-4b85-8803-a6e2a719062a",
   "metadata": {},
   "outputs": [],
   "source": [
    "var1.upper()"
   ]
  },
  {
   "cell_type": "markdown",
   "id": "52886855-93e0-4af9-ae80-0346371c04af",
   "metadata": {},
   "source": [
    "Los atributos de un objeto pueden ser datos o funciones."
   ]
  },
  {
   "cell_type": "code",
   "execution_count": null,
   "id": "940e632a-2dbe-420e-abd7-45a510321171",
   "metadata": {},
   "outputs": [],
   "source": [
    "a = 1 + 3j       # objeto\n",
    "a.imag           # atributo dato"
   ]
  },
  {
   "cell_type": "code",
   "execution_count": null,
   "id": "0375e1e8-fdc0-46bc-b90b-51c03c1f9c04",
   "metadata": {},
   "outputs": [],
   "source": [
    "a.conjugate()    # atributo función"
   ]
  },
  {
   "cell_type": "markdown",
   "id": "33019251-7c10-493b-b9c0-06c30c7123ef",
   "metadata": {
    "tags": []
   },
   "source": [
    "# Sentencia if\n",
    "\n",
    "Sentencia para controlar el flujo de las operaciones del programa.\n",
    "\n",
    "```python\n",
    "    if <condicion>:\n",
    "        sentencia\n",
    "        ...\n",
    "```\n",
    "\n",
    "O:\n",
    "```python\n",
    "    if <condicion>:\n",
    "        do something\n",
    "        \n",
    "    else:\n",
    "        do something else\n",
    "```"
   ]
  },
  {
   "cell_type": "code",
   "execution_count": null,
   "id": "fe42ddb2-ac55-4ee2-bb3d-a116869439fe",
   "metadata": {},
   "outputs": [],
   "source": [
    "x = 5\n",
    "if x == 3: \n",
    "    print('If')\n",
    "else:\n",
    "    print('Else')"
   ]
  },
  {
   "cell_type": "markdown",
   "id": "e40929c5-0592-48d1-8abe-b98bfce0f920",
   "metadata": {},
   "source": [
    "# Algunos tipos básicos"
   ]
  },
  {
   "cell_type": "markdown",
   "id": "3ef7b51a-80d1-4fc7-9740-f35b735b3d67",
   "metadata": {},
   "source": [
    "## Numéricos"
   ]
  },
  {
   "cell_type": "markdown",
   "id": "0e79394a-3c8d-4118-8965-8e2f78630120",
   "metadata": {},
   "source": [
    "Funcionan como en otros lenguajes\n",
    "\n",
    "- Enteros: `int`\n",
    "- Decimal: `float`\n",
    "- Complejos: `complex`"
   ]
  },
  {
   "cell_type": "markdown",
   "id": "a076e382-831e-4da4-bbac-b0b5b60974eb",
   "metadata": {},
   "source": [
    "Entre ellos sí hay conversión automática de tipos"
   ]
  },
  {
   "cell_type": "code",
   "execution_count": null,
   "id": "f146eadc-99a6-44f7-9177-ab5d49af1515",
   "metadata": {},
   "outputs": [],
   "source": [
    "a = 2\n",
    "b = 3.5\n",
    "print(a + b)\n",
    "print(\"Tipo de 'a':\", type(a))\n",
    "print(\"Tipo de 'b':\", type(b))\n",
    "print(\"Tipo de 'a+b':\", type(a+b))"
   ]
  },
  {
   "cell_type": "markdown",
   "id": "8043a8d2-b4ad-4654-8fc5-3ead56ab4595",
   "metadata": {},
   "source": [
    "Soportan las operaciones habituales: `+   -  *  /  %  abs()  **  //`"
   ]
  },
  {
   "cell_type": "markdown",
   "id": "80579141-5f52-442d-b927-d05f9e5a3865",
   "metadata": {},
   "source": [
    "## Boolean"
   ]
  },
  {
   "cell_type": "markdown",
   "id": "f35b2de8-c08d-4666-bb0a-a05e886f788a",
   "metadata": {},
   "source": [
    "Los `booleans` solo incluyen a dos valores: las contantes predefinidas: `True` y `False`.\n",
    "\n",
    "Estos dos valores pueden ser el resultado de evaluar, entre otros:\n",
    "- Una operación lógica: `or`, `and`, `not`\n",
    "- Una comparación: `<`, `<=`, `>`, `>=`, `==`, `!=`, `is`, `is not`"
   ]
  },
  {
   "cell_type": "code",
   "execution_count": null,
   "id": "17841fda-b46c-492c-bb96-5a817c0098d8",
   "metadata": {},
   "outputs": [],
   "source": [
    "x = 4\n",
    "if (x<0) or (x>3):\n",
    "    print('If')\n",
    "else:\n",
    "    print('Else')"
   ]
  },
  {
   "cell_type": "markdown",
   "id": "001701c7-8545-42f7-a1c0-0fe2b7de6a34",
   "metadata": {},
   "source": [
    "## None"
   ]
  },
  {
   "cell_type": "markdown",
   "id": "72d7e216-0e85-433c-a8a4-c83de67ad77f",
   "metadata": {},
   "source": [
    "`None` es el único valor del tipo `NoneType`\n",
    "\n",
    "- Se suele usar cuando se quiere indicar que no hay ningún valor _real_ adecuado.\n",
    "- Se evalúa a `False` (aunuque no _es_ `False`)"
   ]
  },
  {
   "cell_type": "code",
   "execution_count": null,
   "id": "92f1f5ee-1baa-4bc8-a215-87c69ef36b95",
   "metadata": {},
   "outputs": [],
   "source": [
    "if None: print(8)"
   ]
  },
  {
   "cell_type": "markdown",
   "id": "58bebc8f-4a81-4fea-9d9a-8b81d63dec4c",
   "metadata": {},
   "source": [
    "## Strings\n",
    "\n",
    "Cadenas inmutables de caracteres (Unicode)."
   ]
  },
  {
   "cell_type": "code",
   "execution_count": null,
   "id": "56065f08-5fd8-4e43-b03e-96df12d948c0",
   "metadata": {},
   "outputs": [],
   "source": [
    "print('My string with \"double commas\" inside')\n",
    "print(\"My string with 'simple commas' inside\")"
   ]
  },
  {
   "cell_type": "code",
   "execution_count": null,
   "id": "bb6f2cad-5731-42f2-8046-86229a632b09",
   "metadata": {},
   "outputs": [],
   "source": [
    "print(\"\"\"My string with 'simple' and \"double\" commas and \n",
    "line breaks inside\"\"\")"
   ]
  },
  {
   "cell_type": "markdown",
   "id": "d7f7327b-088b-4e5d-805d-ad4b3052fb89",
   "metadata": {},
   "source": [
    "Existen varias maneras de formatear strings:"
   ]
  },
  {
   "cell_type": "code",
   "execution_count": null,
   "id": "1229c480-2574-4514-ba90-8292fe662108",
   "metadata": {},
   "outputs": [],
   "source": [
    "var = 3\n",
    "print(\"My var is\", var, \", or\", var)\n",
    "print(\"My var is %s, or %f\" % (var, var))\n",
    "print(\"My var is {0}, or {0:f}\".format(var))\n",
    "print(f\"My var is {var}, or {var:f}\")"
   ]
  },
  {
   "cell_type": "markdown",
   "id": "a388222f-b408-4f0a-8054-f4920637478d",
   "metadata": {},
   "source": [
    "La última (f-strings) es la más moderna."
   ]
  },
  {
   "cell_type": "markdown",
   "id": "da187bf1-e460-4b56-9bda-9d46a75b3a7f",
   "metadata": {},
   "source": [
    "# Listas (y tuplas)\n",
    "Una lista es una secuencia de elementos (cualesquiera) que puede recorrerse de uno en uno, o acceder por índice."
   ]
  },
  {
   "cell_type": "code",
   "execution_count": null,
   "id": "623f26d4-b310-4b31-8598-928df9daa276",
   "metadata": {},
   "outputs": [],
   "source": [
    "# Crear lista (corchetes)\n",
    "l1 = [1, 2, 3]\n",
    "l1"
   ]
  },
  {
   "cell_type": "code",
   "execution_count": null,
   "id": "f376f3b6-f600-4abf-9342-644784908ce1",
   "metadata": {},
   "outputs": [],
   "source": [
    "# Acceder a un elemento por índice (corchetes)\n",
    "print(l1[0])  "
   ]
  },
  {
   "cell_type": "markdown",
   "id": "9af24bd7-1a4b-4f4e-91c3-0ff19b1968c7",
   "metadata": {},
   "source": [
    "Las listas son modificales"
   ]
  },
  {
   "cell_type": "code",
   "execution_count": null,
   "id": "097fadfb-78e8-41f9-85b6-cc768203db1a",
   "metadata": {},
   "outputs": [],
   "source": [
    "# Modificar el primer elemento\n",
    "l1[0] = 0\n",
    "print(l1)"
   ]
  },
  {
   "cell_type": "code",
   "execution_count": null,
   "id": "86655d87-ec8e-4321-a655-f60dbd1d1cc1",
   "metadata": {},
   "outputs": [],
   "source": [
    "l1.append(4)\n",
    "print(l1)"
   ]
  },
  {
   "cell_type": "markdown",
   "id": "df907632-2c1d-4816-b253-ea5e2166c7a2",
   "metadata": {},
   "source": [
    "Otras operaciones"
   ]
  },
  {
   "cell_type": "code",
   "execution_count": null,
   "id": "7421b4b0-c9fa-4571-8622-941ff3724614",
   "metadata": {},
   "outputs": [],
   "source": [
    "print(len(l1))\n",
    "print(4 in l1)\n",
    "print(l1[1:3])"
   ]
  },
  {
   "cell_type": "markdown",
   "id": "9e968f25-bf08-45c3-b2dd-9b2e13f1d1fb",
   "metadata": {},
   "source": [
    "Las tuplas son iguales a las listas, pero inmutables"
   ]
  },
  {
   "cell_type": "code",
   "execution_count": null,
   "id": "85573010-0778-4350-a6de-62b330c8eb12",
   "metadata": {},
   "outputs": [],
   "source": [
    "t1 = (1, 2, 3)\n",
    "t1"
   ]
  },
  {
   "cell_type": "code",
   "execution_count": null,
   "id": "63675e01-d20a-49bb-a48f-0aa3afe7233c",
   "metadata": {},
   "outputs": [],
   "source": [
    "t1[0]"
   ]
  },
  {
   "cell_type": "code",
   "execution_count": null,
   "id": "246824c2-701b-4719-87ca-1133ed771259",
   "metadata": {},
   "outputs": [],
   "source": [
    "t1[0] = 0"
   ]
  },
  {
   "cell_type": "markdown",
   "id": "e82c028b-5a9a-4a0d-93d4-e8a318756d99",
   "metadata": {},
   "source": [
    "# Bucles\n",
    "\n",
    "Sirven para ejecutar un bloque de instrucciones de forma repetida.\n",
    "\n",
    "Podemos usar `for` o `while`. El primero es más habitual en Python."
   ]
  },
  {
   "cell_type": "markdown",
   "id": "ca537d98-2a3f-4a55-9e4e-d1be3ab45489",
   "metadata": {},
   "source": [
    "## Bucle for\n",
    "\n",
    "La sentencia `for` recorre los elementos de un iterable (p. ej. una lista) y ejecuta un conjunto de instrucciones una vez por cada uno de esos elementos. En cada iteración, la variable usada en el `for` toma el valor del elemento correspondiente del iterable."
   ]
  },
  {
   "cell_type": "code",
   "execution_count": null,
   "id": "b6354c99-fe6e-43e0-bf79-dc779a2456cc",
   "metadata": {},
   "outputs": [],
   "source": [
    "for x in l1:\n",
    "    print(x+3)"
   ]
  },
  {
   "cell_type": "code",
   "execution_count": null,
   "id": "820cf4aa-802f-406c-ab9c-9ce569adf790",
   "metadata": {},
   "outputs": [],
   "source": [
    "# Ejemplo con la función 'range'\n",
    "for x in range(5):\n",
    "    print(x)"
   ]
  },
  {
   "cell_type": "markdown",
   "id": "bef264e0-ebb7-42cf-8ca3-d411f95c21e6",
   "metadata": {},
   "source": [
    "## Bucle while\n",
    "La sentencia `while` repite un conjunto de instrucciones en base a la evaluación de una condición booleana (se repite mientras esta sea verdadera."
   ]
  },
  {
   "cell_type": "code",
   "execution_count": null,
   "id": "85ec9fdf-ddb5-479a-a849-bbf449d28753",
   "metadata": {},
   "outputs": [],
   "source": [
    "x = 0\n",
    "while x < 5:\n",
    "    print(x)\n",
    "    x = x+1"
   ]
  },
  {
   "cell_type": "markdown",
   "id": "87589cc4-6e2a-46b8-b943-3275abd7b147",
   "metadata": {},
   "source": [
    "# Diccionarios\n",
    "\n",
    "Los diccionarios en Python son iterables que asocian claves y valores (_mapas_, _hash arrays_).\n",
    "\n",
    "- Las claves deben ser inmutables (enteros, strings, tuplas).\n",
    "- Los valores pueden ser cualquier tipo de objeto."
   ]
  },
  {
   "cell_type": "code",
   "execution_count": null,
   "id": "3d160466-cfc6-42a2-975c-a1be823c297d",
   "metadata": {},
   "outputs": [],
   "source": [
    "d = {'a': 1, 'b': 5}\n",
    "print(d)"
   ]
  },
  {
   "cell_type": "markdown",
   "id": "97f7e1a3-e889-4ae9-b087-5884eaf4c21a",
   "metadata": {},
   "source": [
    "El acceso para leer o modificar un valor concreta usa el operador `[]`"
   ]
  },
  {
   "cell_type": "code",
   "execution_count": null,
   "id": "6a3e50a2-91e9-48cd-903c-8b5d3bebd5bd",
   "metadata": {},
   "outputs": [],
   "source": [
    "print(d['a'])"
   ]
  },
  {
   "cell_type": "code",
   "execution_count": null,
   "id": "5424a38b-7da0-475b-96d5-00e7e1c43d92",
   "metadata": {},
   "outputs": [],
   "source": [
    "d['c'] = 10\n",
    "print(d)"
   ]
  },
  {
   "cell_type": "markdown",
   "id": "ea748be5-7879-4c3e-8617-c2799855ae32",
   "metadata": {},
   "source": [
    "Los diccionarios son iterables\n",
    "- Cuando se recorre (itera) un diccionario, se recorren las claves."
   ]
  },
  {
   "cell_type": "code",
   "execution_count": null,
   "id": "f599b835-0f1e-4074-8444-2e202388de80",
   "metadata": {},
   "outputs": [],
   "source": [
    "print(\"Longitud:\", len(d))\n",
    "\n",
    "for k in d:\n",
    "    print(k, d[k])"
   ]
  },
  {
   "cell_type": "markdown",
   "id": "88b47214-a480-4eac-891a-5be230e7706f",
   "metadata": {},
   "source": [
    "# Funciones\n",
    "\n",
    "Una función es un bloque de instrucciones que se ejecutan cuando la función es llamada.\n",
    "\n",
    "- Permiten reutilizar código, sin tener que reescribirlo.\n",
    "- Son esenciales para cualquier programa no trivial.\n",
    "\n",
    "Una función existente se usa con `nombre_de_funcion(argumentos)`."
   ]
  },
  {
   "cell_type": "code",
   "execution_count": null,
   "id": "2eab9653-75e5-4930-8755-38ed6dff25c5",
   "metadata": {},
   "outputs": [],
   "source": [
    "print(3)"
   ]
  },
  {
   "cell_type": "code",
   "execution_count": null,
   "id": "623474da-12d1-420e-bd6f-83745b70b6a4",
   "metadata": {},
   "outputs": [],
   "source": [
    "len(l1)"
   ]
  },
  {
   "cell_type": "markdown",
   "id": "e7a63eb7-6f8c-4211-af8f-1b7c9f22f52a",
   "metadata": {},
   "source": [
    "Una función se define con la sentencia `def`:"
   ]
  },
  {
   "cell_type": "code",
   "execution_count": null,
   "id": "8618334f-3d80-455b-8e3b-cfc165db8134",
   "metadata": {},
   "outputs": [],
   "source": [
    "def suma(x, y):\n",
    "    # Cuerpo de la función\n",
    "     res = x + y\n",
    "     return res"
   ]
  },
  {
   "cell_type": "markdown",
   "id": "ed0c3776-bdca-47e3-be70-bb972195bbf3",
   "metadata": {},
   "source": [
    "En el cuerpo de la función:\n",
    "\n",
    "- Los identificadores de argumentos se pueden usar como variables locales\n",
    "- La sentencia `return` especifica el valor devuelto por la función (por defecto es `None`)"
   ]
  },
  {
   "cell_type": "code",
   "execution_count": null,
   "id": "a58f3100-07d3-47b1-8c39-db45198b82d7",
   "metadata": {},
   "outputs": [],
   "source": [
    "s = suma(3, 4)\n",
    "print(s)"
   ]
  },
  {
   "cell_type": "markdown",
   "id": "5d95b49a-fb22-4b39-99c1-f3053c250496",
   "metadata": {},
   "source": [
    "Pueden definirse argumentos con un valor por defecto"
   ]
  },
  {
   "cell_type": "code",
   "execution_count": null,
   "id": "ad34d1dd-7c74-4d98-bbd1-4ecb036ed05a",
   "metadata": {},
   "outputs": [],
   "source": [
    "def div(a, b=2):\n",
    "     res = a / b\n",
    "     return res\n",
    "\n",
    "div(10)"
   ]
  },
  {
   "cell_type": "markdown",
   "id": "9f235b21-2685-49b2-8d60-35590fd8f596",
   "metadata": {},
   "source": [
    "Pueden llamarse los argumentos por nombre"
   ]
  },
  {
   "cell_type": "code",
   "execution_count": null,
   "id": "5344a3e3-a22c-42ec-89fc-e0ed279e4f6f",
   "metadata": {},
   "outputs": [],
   "source": [
    "div(b=5, a=10)"
   ]
  },
  {
   "cell_type": "markdown",
   "id": "8a1b45dc-6684-4b8d-bf84-a23e0ecec57f",
   "metadata": {},
   "source": [
    "# Módulos\n",
    "\n",
    "Un módulo es un fichero que agrupa código Python, principalmente definiciones de funciones o clases (nuevos tipos de datos), para su reutilización.\n",
    "\n",
    "- El caso más habitual es que el módulo `foo` corresponda al fichero de código Python `foo.py`, pero también existen módulos compilados."
   ]
  },
  {
   "cell_type": "markdown",
   "id": "afb49c96-5296-4fba-bd00-d5939c0f53e1",
   "metadata": {},
   "source": [
    "Podemos importar de diversas maneras"
   ]
  },
  {
   "cell_type": "code",
   "execution_count": null,
   "id": "c2052428-1a79-4571-8541-68b95778d689",
   "metadata": {},
   "outputs": [],
   "source": [
    "import math \n",
    "print(math.pi)"
   ]
  },
  {
   "cell_type": "code",
   "execution_count": null,
   "id": "241209c1-2924-43f5-acb4-c4c10cd44d58",
   "metadata": {},
   "outputs": [],
   "source": [
    "import math as m\n",
    "print(m.pi)"
   ]
  },
  {
   "cell_type": "code",
   "execution_count": null,
   "id": "ed239ed4-852a-4888-814e-74dc02b4cad3",
   "metadata": {},
   "outputs": [],
   "source": [
    "from math import log\n",
    "log(3)"
   ]
  },
  {
   "cell_type": "markdown",
   "id": "08f2d158-c836-425d-b170-15b97fe562b1",
   "metadata": {},
   "source": [
    "# Clases, instancias y objetos\n",
    "\n",
    "Las clases definen un nuevo _tipo_ de datos (de objetos).\n",
    "\n",
    "- Definen atributos (miembros): \n",
    "  - Datos\n",
    "  - Funciones (métodos)\n",
    "    \n",
    "Las _instancias_ de una clase son los _objetos_ cuyo tipo es esa clase.\n",
    "\n",
    "  - Se pueden definir múltiples instancias (objetos) de una misma clase\n",
    "  \n",
    "Ya hemos visto muchos objetos:\n",
    "\n",
    "- Clase: `int`.  Objetos: `3`, `int('4')`. Atributo: `int('4').real`\n",
    "- Clase: `str`.  Objetos: `'abc'`, `'xy'`. Método: `'xy'.split`\n",
    "\n",
    "Podemos crear nuevas clases con la sentencia `class <mi-clase>`, pero no lo vamos a ver aquí.\n",
    "\n",
    "Sin embargo, nos encontraremos con que las librerías que utilicemos sí crearán multitud de clases nuevas, con mucha funcionalidad incorporada, que podremos utilizar en nuestros programas.\n",
    "\n",
    "Podemos usar la función `help` (o la documentación _online_), para aprender sobre ellos.\n",
    "\n",
    "**NOTA:** Los atributos que empiezan por `_` se consideran privados o son especiales (p. ej. `__init__` es el _constructor_ de una clase)."
   ]
  },
  {
   "cell_type": "code",
   "execution_count": null,
   "id": "0bb3b2aa-4b82-46fb-b997-36b6718766d8",
   "metadata": {},
   "outputs": [],
   "source": [
    "import numpy as np\n",
    "help(np.ndarray)"
   ]
  },
  {
   "cell_type": "markdown",
   "id": "d1250fcf-b523-49d8-9f2f-903dea82fc05",
   "metadata": {},
   "source": [
    "# Más información\n",
    "\n",
    "Cursos, p.ej.:\n",
    "- Curso de introducción a Python en plataforma Jupyter: https://github.com/andelpe/curso-intro-python\n",
    "- Curso de code academy: https://www.codecademy.com/learn/learn-python-3\n",
    "\n",
    "Recursos online\n",
    "- python.org: https://www.python.org/about/gettingstarted/\n",
    "- Google, etc.\n"
   ]
  }
 ],
 "metadata": {
  "kernelspec": {
   "display_name": "Python 3",
   "language": "python",
   "name": "python3"
  },
  "language_info": {
   "codemirror_mode": {
    "name": "ipython",
    "version": 3
   },
   "file_extension": ".py",
   "mimetype": "text/x-python",
   "name": "python",
   "nbconvert_exporter": "python",
   "pygments_lexer": "ipython3",
   "version": "3.6.8"
  },
  "toc-autonumbering": true
 },
 "nbformat": 4,
 "nbformat_minor": 5
}
